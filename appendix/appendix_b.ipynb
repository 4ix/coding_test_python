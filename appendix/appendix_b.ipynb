{
 "cells": [
  {
   "attachments": {},
   "cell_type": "markdown",
   "metadata": {},
   "source": [
    "# 더 알아두면 좋은 알고리즘"
   ]
  },
  {
   "attachments": {},
   "cell_type": "markdown",
   "metadata": {},
   "source": [
    "## 소수의 판별"
   ]
  },
  {
   "cell_type": "code",
   "execution_count": 1,
   "metadata": {},
   "outputs": [
    {
     "name": "stdout",
     "output_type": "stream",
     "text": [
      "False\n",
      "True\n"
     ]
    }
   ],
   "source": [
    "# x가 주어졌을 때 소수인지 아닌지 판별\n",
    "def is_prime_number(x):\n",
    "    for i in range(2,x):\n",
    "        if x % i == 0:\n",
    "            return False # 0으로 나누어 떨어지니까 소수가 아님\n",
    "    return True\n",
    "\n",
    "print(is_prime_number(4))\n",
    "print(is_prime_number(7))"
   ]
  },
  {
   "cell_type": "code",
   "execution_count": null,
   "metadata": {},
   "outputs": [
    {
     "name": "stdout",
     "output_type": "stream",
     "text": [
      "False\n",
      "True\n"
     ]
    }
   ],
   "source": [
    "import math\n",
    "\n",
    "def is_prime_number(x):\n",
    "    for i in range(2, int(math.sqrt(x))+1): # 2부터 x의 제곱근까지의 모든 수를 확인하여\n",
    "        if x % i == 0:\n",
    "            return False\n",
    "    return True\n",
    "\n",
    "print(is_prime_number(4))\n",
    "print(is_prime_number(7))"
   ]
  },
  {
   "attachments": {},
   "cell_type": "markdown",
   "metadata": {},
   "source": [
    "## 에라토스테네스의 체\n",
    "- 여러 개의 수가 소수인지 아닌지 판별\n",
    "1. 2부터 n까지의 모든 자연수 나열\n",
    "2. 남은 수 중에서 아직 처리하지 않은 가장 작은 수 i 찾기\n",
    "3. 남은 수 중에서 i의 배수를 모두 제거(i 제거 안함)\n",
    "4. 반복할 수 없을 때 까지 2와 3 과정 반복\n",
    "\n",
    "- 예) n=26\n",
    "1. 2부터 26까지 나열\n",
    "2. 2를 제외한 2의 배수 모두 제외\n",
    "3. 3을 제외한 3의 배수 모두 제외\n",
    "4. 5를 제외한 5의 배수 모두 제외 ..."
   ]
  },
  {
   "cell_type": "code",
   "execution_count": 5,
   "metadata": {},
   "outputs": [
    {
     "name": "stdout",
     "output_type": "stream",
     "text": [
      "2 3 5 7 11 13 17 19 23 29 31 37 41 43 47 53 59 61 67 71 73 79 83 89 97 101 103 107 109 113 127 131 137 139 149 151 157 163 167 173 179 181 191 193 197 199 211 223 227 229 233 239 241 251 257 263 269 271 277 281 283 293 307 311 313 317 331 337 347 349 353 359 367 373 379 383 389 397 401 409 419 421 431 433 439 443 449 457 461 463 467 479 487 491 499 503 509 521 523 541 547 557 563 569 571 577 587 593 599 601 607 613 617 619 631 641 643 647 653 659 661 673 677 683 691 701 709 719 727 733 739 743 751 757 761 769 773 787 797 809 811 821 823 827 829 839 853 857 859 863 877 881 883 887 907 911 919 929 937 941 947 953 967 971 977 983 991 997 "
     ]
    }
   ],
   "source": [
    "import math\n",
    "\n",
    "n = 1000\n",
    "array = [True for i in range(n+1)] # 초기값은 true라고 일단 지정\n",
    "\n",
    "# 에라토스테네스의 체 알고리즘\n",
    "for i in range(2, int(math.sqrt(n))+1): # 2부터 n의 제곱근까지의 모든 수 확인\n",
    "    if array[i] == True: # i가 소수인 경우(남은 수인 경우)\n",
    "        # i를 제외한 i의 모든 배수 지우기\n",
    "        j = 2\n",
    "        while i* j <= n:\n",
    "            array[i*j] = False # i의 배수 False(지우기)\n",
    "            j += 1\n",
    "\n",
    "# 모든 소수 출력\n",
    "for i in range(2, n+1):\n",
    "    if array[i]:\n",
    "        print(i, end= ' ')"
   ]
  },
  {
   "attachments": {},
   "cell_type": "markdown",
   "metadata": {},
   "source": [
    "## 투 포인터\n",
    "- 리스트에 순차적으로 접근해야 할 때 2개의 점의 위치를 기록하면서 처리\n",
    "- 시작점과 끝점 2개의 점으로 접근할 데이터 범위 표현\n",
    "- 특정한 합을 가지는 부분 연속 수열 찾기\n",
    "\n",
    "- 예) [1,2,3,2,5]의 리스트에서 합계값이 5인 경우를 찾아라\n",
    "1. 시작점(start)과 끝점(end)이 첫번째 원소의 인덱스를 가리키도록 함\n",
    "2. 현재 부분합이 M과 같다면 카운트\n",
    "3. 현재 부분합이 M보다 작으면 end 1 증가\n",
    "4. 현재 부분합이 M보다 크거나 같으면 start 1 증가\n",
    "5. 모든 경우를 확인할 때 까지 2부터 4 반복"
   ]
  },
  {
   "cell_type": "code",
   "execution_count": null,
   "metadata": {},
   "outputs": [
    {
     "name": "stdout",
     "output_type": "stream",
     "text": [
      "3\n"
     ]
    }
   ],
   "source": [
    "n = 5 # 데이터의 개수\n",
    "m = 5 # 찾고자 하는 부분합\n",
    "data = [1,2,3,2,5] # 대상 리스트\n",
    "\n",
    "count = 0\n",
    "interval_sum = 0\n",
    "end = 0\n",
    "\n",
    "for start in range(n):\n",
    "    # end를 가능한 만큼 이동\n",
    "    while interval_sum < m and end < n:\n",
    "        interval_sum += data[end]\n",
    "        end += 1\n",
    "    if interval_sum == m:\n",
    "        count +=1\n",
    "    interval_sum -= data[start]\n",
    "print(count)"
   ]
  },
  {
   "attachments": {},
   "cell_type": "markdown",
   "metadata": {},
   "source": [
    "- 정렬된 2개의 리스트가 입력으로 주어짐\n",
    "- 두 리스트의 모든 원소를 합쳐서 정렬한 결과는?\n",
    "\n",
    "1. 정렬된 리스트 A와 B를 입력받음\n",
    "2. 리스트 A에서 처리되지 않은 원소 중 가장 작은 원소를 i가 가리키도록 함\n",
    "3. 리스트 B에서 처리되지 않은 원소 중 가장 작은 원소를 i가 가리키도록 함\n",
    "4. A[i]와 B[j] 중에서 더 작은 원소를 결과 리스트에 담음\n",
    "5. 처리할 원소가 없을 때 까지 2~4과정 반복"
   ]
  },
  {
   "cell_type": "code",
   "execution_count": 23,
   "metadata": {},
   "outputs": [
    {
     "name": "stdout",
     "output_type": "stream",
     "text": [
      "1 2 3 4 5 6 8 "
     ]
    }
   ],
   "source": [
    "# 리스트 a와 b 선언\n",
    "a = [1,3,5]\n",
    "b = [2,4,6,8]\n",
    "n,m = len(a), len(b)\n",
    "\n",
    "# 결과 리스트 초기화\n",
    "result = [0] * (n+m)\n",
    "i = 0\n",
    "j = 0\n",
    "k = 0\n",
    "\n",
    "# 모든 원소가 결과 리스트에 담길 때 까지 반복\n",
    "while i < n or j < m:\n",
    "    # 리스트 B의 모든 원소가 처리 or 리스트 A의 원소가 더 작을 때\n",
    "    if j>=m or (i < n and a[i] <= b[j]):\n",
    "        result[k] = a[i]\n",
    "        i += 1\n",
    "    else:\n",
    "        # 리스트 B의 원소를 결과 리스트로\n",
    "        result[k] = b[j]\n",
    "        j += 1\n",
    "    k += 1\n",
    "\n",
    "# 결과 출력\n",
    "for i in result:\n",
    "    print(i, end = ' ')"
   ]
  },
  {
   "attachments": {},
   "cell_type": "markdown",
   "metadata": {},
   "source": [
    "## 구간 합 계산\n",
    "1. n개의 수에 대해 접두사 합 계산 후 배열 p에 저장\n",
    "2. 매 m개의 쿼리 정보 [l,r]을 확인할 때 구간합은 p[r]-p[l-1] 이다."
   ]
  },
  {
   "cell_type": "code",
   "execution_count": 32,
   "metadata": {},
   "outputs": [
    {
     "name": "stdout",
     "output_type": "stream",
     "text": [
      "70\n"
     ]
    }
   ],
   "source": [
    "data = [10,20,30,40,50]\n",
    "\n",
    "sum_value = 0\n",
    "prefix_sum = [0]\n",
    "for i in data:\n",
    "    sum_value += i\n",
    "    prefix_sum.append(sum_value)\n",
    "\n",
    "# 구간 합 계산\n",
    "left = 3\n",
    "right = 4\n",
    "\n",
    "print(prefix_sum[right] - prefix_sum[left-1])"
   ]
  },
  {
   "attachments": {},
   "cell_type": "markdown",
   "metadata": {},
   "source": [
    "## 순열과 조합\n",
    "- 순열: 서로 다른 n개에서 r개를 선택하여 일렬로 나열, itertools 라이브러리 이용"
   ]
  },
  {
   "cell_type": "code",
   "execution_count": 36,
   "metadata": {},
   "outputs": [
    {
     "name": "stdout",
     "output_type": "stream",
     "text": [
      "[1, 2] [1, 3] [1, 4] [2, 1] [2, 3] [2, 4] [3, 1] [3, 2] [3, 4] [4, 1] [4, 2] [4, 3] "
     ]
    }
   ],
   "source": [
    "import itertools\n",
    "\n",
    "data = [1,2,3,4]\n",
    "for x in itertools.permutations(data,2): # 1~4까지에서 2개를 뽑아 나열\n",
    "    print(list(x), end =' ')"
   ]
  },
  {
   "attachments": {},
   "cell_type": "markdown",
   "metadata": {},
   "source": [
    "- 조합: 서로 다른 n개에서 순서에 상관없이 서로 다른 r개 선택"
   ]
  },
  {
   "cell_type": "code",
   "execution_count": 37,
   "metadata": {},
   "outputs": [
    {
     "name": "stdout",
     "output_type": "stream",
     "text": [
      "[1, 2] [1, 3] [1, 4] [2, 3] [2, 4] [3, 4] "
     ]
    }
   ],
   "source": [
    "import itertools\n",
    "\n",
    "data = [1,2,3,4]\n",
    "for x in itertools.combinations(data,2):\n",
    "    print(list(x), end =' ')"
   ]
  },
  {
   "attachments": {},
   "cell_type": "markdown",
   "metadata": {},
   "source": [
    "### 예제1. 소수 구하기\n",
    "#### M 이상 N 이하의 소수를 모두 출력하는 프로그램 작성\n",
    "- 첫째 줄에 M과 N이 빈칸을 사이에 두고 주어짐 (1 <= M <= N <=1,000,000)\n",
    "- 단, M 이상 N 이하의 소수가 하나 이상 있는 입력만 주어짐\n",
    "\n",
    "- 한줄에 하나씩, 증가하는 순서대로 소수 출력"
   ]
  },
  {
   "cell_type": "code",
   "execution_count": 42,
   "metadata": {},
   "outputs": [
    {
     "name": "stdout",
     "output_type": "stream",
     "text": [
      "1 22\n",
      "2\n",
      "3\n",
      "5\n",
      "7\n",
      "11\n",
      "13\n",
      "17\n",
      "19\n"
     ]
    }
   ],
   "source": [
    "import math\n",
    "\n",
    "m,n = map(int, input().split()) \n",
    "print(m,n)\n",
    "array = [True for i in range(1000001)]\n",
    "array[1] = 0 # 1은 소수가 아님\n",
    "\n",
    "# 에라토스테네스의 체 알고리즘\n",
    "for i in range(2, int(math.sqrt(n))+1): # 2부터 n 제곱근까지의 모든 수 확인\n",
    "    if array[i] == True: # i가 소수이면\n",
    "        j = 2\n",
    "        while i * j <= n:\n",
    "            array[i*j] = False\n",
    "            j += 1\n",
    "\n",
    "# 소수 출력\n",
    "for i in range(m, n+1):\n",
    "    if array[i]:\n",
    "        print(i)\n"
   ]
  },
  {
   "attachments": {},
   "cell_type": "markdown",
   "metadata": {},
   "source": [
    "### 예제2. 암호 만들기\n",
    "#### 암호는 서로 다른 L개의 알파벳 소문자로 구성, 최소 한개의 모음과 최소 두개의 자음으로 구성. 알파벳이 암호에서 증가하는 순서로 추측\n",
    "#### 문자의 종류는 C가지가 있음. C개의 문자들이 모두 주어졌을 때, 가능성 있는 암호들을 모두 구하는 프로그램 작성\n",
    "- 첫째 줄에 두 정수 L, C가 주어짐 (3 <= L <= C <= 15)\n",
    "- 다음 줄에는 C개의 문자들이 주어지며 공백으로 구분\n",
    "- 주어지는 문자들은 알파벳 소문자이며, 중복 없음\n",
    "\n",
    "- 각줄에 하나씩, 사전식으로 가능성 있는 암호 모두 출력"
   ]
  },
  {
   "cell_type": "code",
   "execution_count": 45,
   "metadata": {},
   "outputs": [
    {
     "name": "stdout",
     "output_type": "stream",
     "text": [
      "4 6\n",
      "['a', 'c', 'i', 's', 't', 'w']\n",
      "acis\n",
      "acit\n",
      "aciw\n",
      "acst\n",
      "acsw\n",
      "actw\n",
      "aist\n",
      "aisw\n",
      "aitw\n",
      "astw\n",
      "cist\n",
      "cisw\n",
      "citw\n",
      "istw\n"
     ]
    }
   ],
   "source": [
    "from itertools import combinations\n",
    "\n",
    "vowels = ('a', 'e', 'i', 'o', 'u') # 5개의 모음 정의\n",
    "l, c = map(int, input().split())\n",
    "\n",
    "print(l, c)\n",
    "array = input().split()\n",
    "array.sort()\n",
    "print(array)\n",
    "\n",
    "# 길이가 l인 모든 암호 조합 확인\n",
    "for password in combinations(array, l):\n",
    "    # 모음 개수 출력\n",
    "    count = 0\n",
    "    for i in password:\n",
    "        if i in vowels:\n",
    "            count += 1\n",
    "    # 최소 1개의 모음과 2개의 자음이 있는 경우 출력\n",
    "    if count >= 1 and count <= l - 2:\n",
    "        print(''.join(password))"
   ]
  }
 ],
 "metadata": {
  "kernelspec": {
   "display_name": "base",
   "language": "python",
   "name": "python3"
  },
  "language_info": {
   "codemirror_mode": {
    "name": "ipython",
    "version": 3
   },
   "file_extension": ".py",
   "mimetype": "text/x-python",
   "name": "python",
   "nbconvert_exporter": "python",
   "pygments_lexer": "ipython3",
   "version": "3.9.15"
  },
  "orig_nbformat": 4,
  "vscode": {
   "interpreter": {
    "hash": "2a866c99605a64ff6a27a3bc77831e88ac26321d22efe31169d14f97d30d153e"
   }
  }
 },
 "nbformat": 4,
 "nbformat_minor": 2
}
