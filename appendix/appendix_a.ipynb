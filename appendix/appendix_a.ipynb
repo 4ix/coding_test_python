{
 "cells": [
  {
   "attachments": {},
   "cell_type": "markdown",
   "metadata": {},
   "source": [
    "# 자료형"
   ]
  },
  {
   "cell_type": "markdown",
   "metadata": {},
   "source": [
    "## 수 자료형"
   ]
  },
  {
   "cell_type": "markdown",
   "metadata": {},
   "source": [
    "### 정수헝(integer)"
   ]
  },
  {
   "cell_type": "code",
   "execution_count": 6,
   "metadata": {},
   "outputs": [
    {
     "name": "stdout",
     "output_type": "stream",
     "text": [
      "1000\n",
      "-7\n",
      "0\n"
     ]
    }
   ],
   "source": [
    "a = 1000\n",
    "print(a)\n",
    "\n",
    "a = -7\n",
    "print(a)\n",
    "\n",
    "a = 0\n",
    "print(a)"
   ]
  },
  {
   "attachments": {},
   "cell_type": "markdown",
   "metadata": {},
   "source": [
    "### 실수형(real number)"
   ]
  },
  {
   "cell_type": "code",
   "execution_count": 29,
   "metadata": {},
   "outputs": [
    {
     "name": "stdout",
     "output_type": "stream",
     "text": [
      "157.93\n",
      "-1837.2\n",
      "5.0\n",
      "-0.7\n",
      "1000000000.0\n",
      "752.5\n",
      "3.954\n",
      "0.8999999999999999\n",
      "False\n",
      "0.9\n",
      "True\n"
     ]
    }
   ],
   "source": [
    "a = 157.93\n",
    "print(a)\n",
    "\n",
    "a = -1837.2\n",
    "print(a)\n",
    "\n",
    "a = 5.\n",
    "print(a)\n",
    "\n",
    "a = -.7\n",
    "print(a)\n",
    "\n",
    "## 10억의 지수 표현 방식\n",
    "a = 1e9\n",
    "print(a)\n",
    "\n",
    "## 752.5\n",
    "a = 75.25e1 #e1 오른쪽으로 소숫점 한칸\n",
    "print(a)\n",
    "\n",
    "## 3.954\n",
    "a = 3954e-3 #e3 왼쪽으로 소숫점 세칸\n",
    "print(a)\n",
    "\n",
    "a = 0.3 + 0.6\n",
    "print(a) #2진수에서는 0.9를 정확히 표현할 수 있는 방법이 없음.\n",
    "\n",
    "if a==0.9:\n",
    "    print(True)\n",
    "else:\n",
    "    print(False)\n",
    "\n",
    "a = 0.3 + 0.6\n",
    "print(round(a, 4)) #소수점 4째자리에서 반올림\n",
    "\n",
    "if round(a,4)== 0.9:\n",
    "    print(True)\n",
    "else:\n",
    "    print(False)"
   ]
  },
  {
   "attachments": {},
   "cell_type": "markdown",
   "metadata": {},
   "source": [
    "### 수 자료형의 연산"
   ]
  },
  {
   "cell_type": "code",
   "execution_count": 34,
   "metadata": {},
   "outputs": [
    {
     "name": "stdout",
     "output_type": "stream",
     "text": [
      "2.3333333333333335\n",
      "1\n",
      "2\n",
      "125\n"
     ]
    }
   ],
   "source": [
    "a = 7\n",
    "b = 3\n",
    "\n",
    "# 나누기\n",
    "print(a/b)\n",
    "\n",
    "# 나머지\n",
    "print(a % b)\n",
    "\n",
    "# 몫\n",
    "print(a // b)\n",
    "\n",
    "a = 5\n",
    "b = 3\n",
    "print(a**b)"
   ]
  },
  {
   "attachments": {},
   "cell_type": "markdown",
   "metadata": {},
   "source": [
    "## 리스트 자료형"
   ]
  },
  {
   "attachments": {},
   "cell_type": "markdown",
   "metadata": {},
   "source": [
    "### 리스트 만들기"
   ]
  },
  {
   "cell_type": "code",
   "execution_count": 38,
   "metadata": {},
   "outputs": [
    {
     "name": "stdout",
     "output_type": "stream",
     "text": [
      "[1, 2, 3, 4, 5, 6, 7, 8, 9]\n",
      "5\n",
      "[]\n",
      "[]\n"
     ]
    }
   ],
   "source": [
    "a = [1,2,3,4,5,6,7,8,9]\n",
    "print(a)\n",
    "\n",
    "# 인덱스 4, 즉 다섯 번째 원소 접근\n",
    "print(a[4])\n",
    "\n",
    "# 빈 리스트 선언 방법 1)\n",
    "a = list()\n",
    "print(a)\n",
    "\n",
    "# 빈 리스트 선언 방법 2)\n",
    "a = []\n",
    "print(a)"
   ]
  },
  {
   "attachments": {},
   "cell_type": "markdown",
   "metadata": {},
   "source": [
    "### 리스트 인덱싱과 슬라이싱"
   ]
  },
  {
   "cell_type": "code",
   "execution_count": 2,
   "metadata": {},
   "outputs": [
    {
     "name": "stdout",
     "output_type": "stream",
     "text": [
      "9\n",
      "7\n",
      "[1, 2, 3, 7, 5, 6, 7, 8, 9]\n",
      "[2, 3, 7]\n"
     ]
    }
   ],
   "source": [
    "a = [1,2,3,4,5,6,7,8,9]\n",
    "\n",
    "# 뒤에서 첫번째 원소 출력\n",
    "print(a[-1])\n",
    "\n",
    "# 뒤에서 세번째 원소 출력\n",
    "print(a[-3])\n",
    "\n",
    "# 네 번재 원소 값 변경\n",
    "a[3] = 7\n",
    "print(a)\n",
    "\n",
    "# 두 번째 원소부터 네번째 원소까지\n",
    "print(a[1:4])"
   ]
  },
  {
   "attachments": {},
   "cell_type": "markdown",
   "metadata": {},
   "source": [
    "### 리스트 컴프리헨션(리스트 초기화)"
   ]
  },
  {
   "cell_type": "code",
   "execution_count": 5,
   "metadata": {},
   "outputs": [
    {
     "name": "stdout",
     "output_type": "stream",
     "text": [
      "[1, 3, 5, 7, 9, 11, 13, 15, 17, 19]\n",
      "[1, 4, 9, 16, 25, 36, 49, 64]\n",
      "[[0, 0, 0, 0], [0, 0, 0, 0], [0, 0, 0, 0]]\n"
     ]
    }
   ],
   "source": [
    "# 0부터 19까지 수 중에서 홀수만 포함하는 리스트\n",
    "array = [i for i in range(20) if i % 2 == 1]\n",
    "print(array)\n",
    "\n",
    "# 1부터 9까지의 수의 제곱 값을 포함하는 리스트\n",
    "array = [i * i for i in range(1,9)]\n",
    "print(array)\n",
    "\n",
    "# N X M 크기의 2차원 리스트 초기화\n",
    "n = 3\n",
    "m = 4\n",
    "array = [ [0] * m for _ in range(n)]\n",
    "print(array)"
   ]
  },
  {
   "attachments": {},
   "cell_type": "markdown",
   "metadata": {},
   "source": [
    "### 리스트 관련 기타 메서드"
   ]
  },
  {
   "cell_type": "code",
   "execution_count": 15,
   "metadata": {},
   "outputs": [
    {
     "name": "stdout",
     "output_type": "stream",
     "text": [
      "기본 리스트:  [1, 4, 3]\n",
      "삽입:  [1, 4, 3, 2]\n",
      "오름차순 정렬:  [1, 2, 3, 4]\n",
      "내림차순 정렬:  [4, 3, 2, 1]\n",
      "원소 뒤집기:  [1, 2, 3, 4]\n",
      "인덱스 2에 3 추가:  [1, 2, 3, 3, 4]\n",
      "값이 3인 데이터 개수:  2\n",
      "값이 1인 데이터 삭제:  [2, 3, 3, 4]\n",
      "[1, 2, 4]\n"
     ]
    }
   ],
   "source": [
    "a = [1,4,3]\n",
    "print(\"기본 리스트: \", a)\n",
    "\n",
    "# 리스트에 원소 삽입\n",
    "a.append(2)\n",
    "print(\"삽입: \", a)\n",
    "\n",
    "# 오름차순 정렬\n",
    "a.sort()\n",
    "print(\"오름차순 정렬: \", a)\n",
    "\n",
    "# 내림차순 정렬\n",
    "a.sort(reverse=True)\n",
    "print(\"내림차순 정렬: \", a)\n",
    "\n",
    "# 리스트 원소 뒤집기\n",
    "a.reverse()\n",
    "print(\"원소 뒤집기: \", a)\n",
    "\n",
    "# 특정 인덱스에 데이터 추가\n",
    "a.insert(2,3)\n",
    "print(\"인덱스 2에 3 추가: \", a)\n",
    "\n",
    "# 특정 값인 데이터 개수 세기\n",
    "print(\"값이 3인 데이터 개수: \", a.count(3))\n",
    "\n",
    "# 특정 값 데이터 삭제\n",
    "a.remove(1)\n",
    "print(\"값이 1인 데이터 삭제: \", a)\n",
    "\n",
    "# 특정한 값의 원소를 모두 제거하는 방법\n",
    "a = [1,2,3,4,5,5,5]\n",
    "remove_set = {3,5}\n",
    "\n",
    "result = [i for i in a if i not in remove_set]\n",
    "print(result)\n"
   ]
  },
  {
   "attachments": {},
   "cell_type": "markdown",
   "metadata": {},
   "source": [
    "## 문자열 자료형"
   ]
  },
  {
   "attachments": {},
   "cell_type": "markdown",
   "metadata": {},
   "source": [
    "### 문자열 초기화"
   ]
  },
  {
   "cell_type": "code",
   "execution_count": 18,
   "metadata": {},
   "outputs": [
    {
     "name": "stdout",
     "output_type": "stream",
     "text": [
      "Hello World\n",
      "Don't you know \"Python\"?\n"
     ]
    }
   ],
   "source": [
    "data = 'Hello World'\n",
    "print(data)\n",
    "\n",
    "data = \"Don't you know \\\"Python\\\"?\" # \\를 사용하면 큰 따옴표나 작은 따옴표를 문자열에 원하는 만큼 포함 가능\n",
    "print(data)"
   ]
  },
  {
   "attachments": {},
   "cell_type": "markdown",
   "metadata": {},
   "source": [
    "### 문자열 연산"
   ]
  },
  {
   "cell_type": "code",
   "execution_count": 27,
   "metadata": {},
   "outputs": [
    {
     "name": "stdout",
     "output_type": "stream",
     "text": [
      "Hello World\n",
      "StringStringString\n",
      "CD\n"
     ]
    }
   ],
   "source": [
    "a = \"Hello\"\n",
    "b = \"World\"\n",
    "\n",
    "print(a + \" \" +b)\n",
    "\n",
    "a = \"String\"\n",
    "print(a * 3)\n",
    "\n",
    "a = \"ABCDEF\"\n",
    "print(a[2:4])"
   ]
  },
  {
   "attachments": {},
   "cell_type": "markdown",
   "metadata": {},
   "source": [
    "### 튜플 자료형 (한번 선언된 값을 변경할 수 없음)"
   ]
  },
  {
   "cell_type": "code",
   "execution_count": 29,
   "metadata": {},
   "outputs": [
    {
     "name": "stdout",
     "output_type": "stream",
     "text": [
      "(1, 2, 3, 4)\n"
     ]
    },
    {
     "ename": "TypeError",
     "evalue": "'tuple' object does not support item assignment",
     "output_type": "error",
     "traceback": [
      "\u001b[1;31m---------------------------------------------------------------------------\u001b[0m",
      "\u001b[1;31mTypeError\u001b[0m                                 Traceback (most recent call last)",
      "\u001b[1;32m~\\AppData\\Local\\Temp\\ipykernel_26112\\1539920695.py\u001b[0m in \u001b[0;36m<module>\u001b[1;34m\u001b[0m\n\u001b[0;32m      2\u001b[0m \u001b[0mprint\u001b[0m\u001b[1;33m(\u001b[0m\u001b[0ma\u001b[0m\u001b[1;33m)\u001b[0m\u001b[1;33m\u001b[0m\u001b[1;33m\u001b[0m\u001b[0m\n\u001b[0;32m      3\u001b[0m \u001b[1;33m\u001b[0m\u001b[0m\n\u001b[1;32m----> 4\u001b[1;33m \u001b[0ma\u001b[0m\u001b[1;33m[\u001b[0m\u001b[1;36m2\u001b[0m\u001b[1;33m]\u001b[0m \u001b[1;33m=\u001b[0m \u001b[1;36m7\u001b[0m\u001b[1;33m\u001b[0m\u001b[1;33m\u001b[0m\u001b[0m\n\u001b[0m",
      "\u001b[1;31mTypeError\u001b[0m: 'tuple' object does not support item assignment"
     ]
    }
   ],
   "source": [
    "a = (1,2,3,4)\n",
    "print(a)\n",
    "\n",
    "a[2] = 7"
   ]
  },
  {
   "attachments": {},
   "cell_type": "markdown",
   "metadata": {},
   "source": [
    "## 사전 자료형(딕셔너리)"
   ]
  },
  {
   "attachments": {},
   "cell_type": "markdown",
   "metadata": {},
   "source": [
    "### 사전 자료형 소개"
   ]
  },
  {
   "cell_type": "code",
   "execution_count": 32,
   "metadata": {},
   "outputs": [
    {
     "name": "stdout",
     "output_type": "stream",
     "text": [
      "{'사과': 'Apple', '바나나': 'Banana', '코코넛': 'Coconut'}\n",
      "'사과'를 키로 가지는 데이터가 존재합니다.\n"
     ]
    }
   ],
   "source": [
    "data = dict() # or {}\n",
    "data['사과'] = 'Apple'\n",
    "data['바나나'] = 'Banana'\n",
    "data['코코넛'] = 'Coconut'\n",
    "\n",
    "print(data)\n",
    "\n",
    "data = {}\n",
    "data['사과'] = 'Apple'\n",
    "data['바나나'] = 'Banana'\n",
    "data['코코넛'] = 'Coconut'\n",
    "\n",
    "if '사과' in data:\n",
    "    print(\"'사과'를 키로 가지는 데이터가 존재합니다.\")"
   ]
  },
  {
   "attachments": {},
   "cell_type": "markdown",
   "metadata": {},
   "source": [
    "### 사전 자료형 관련 함수"
   ]
  },
  {
   "cell_type": "code",
   "execution_count": 35,
   "metadata": {},
   "outputs": [
    {
     "name": "stdout",
     "output_type": "stream",
     "text": [
      "dict_keys(['사과', '바나나', '코코넛'])\n",
      "dict_values(['Apple', 'Banana', 'Coconut'])\n",
      "Apple\n",
      "Banana\n",
      "Coconut\n"
     ]
    }
   ],
   "source": [
    "data = {}\n",
    "data['사과'] = 'Apple'\n",
    "data['바나나'] = 'Banana'\n",
    "data['코코넛'] = 'Coconut'\n",
    "\n",
    "# 키 데이터만 담은 리스트\n",
    "key_list = data.keys()\n",
    "print(key_list)\n",
    "\n",
    "# 값 데이터만 담은 리스트\n",
    "value_list = data.values()\n",
    "print(value_list)\n",
    "\n",
    "# 각 키에 따른 값을 하나씩 출력\n",
    "for key in key_list:\n",
    "    print(data[key])"
   ]
  },
  {
   "attachments": {},
   "cell_type": "markdown",
   "metadata": {},
   "source": [
    "## 집합 자료형"
   ]
  },
  {
   "attachments": {},
   "cell_type": "markdown",
   "metadata": {},
   "source": [
    "### 집합 자료형 소개"
   ]
  },
  {
   "cell_type": "code",
   "execution_count": 37,
   "metadata": {},
   "outputs": [
    {
     "name": "stdout",
     "output_type": "stream",
     "text": [
      "{1, 2, 3, 4, 5}\n",
      "{1, 2, 3, 4, 5}\n"
     ]
    }
   ],
   "source": [
    "# 집합 자료형 초기화 방법 1\n",
    "data = set([1,1,2,3,4,4,5])\n",
    "print(data)\n",
    "\n",
    "# 집합 자료형 초기화 방법 2\n",
    "data = {1,1,2,3,4,4,5}\n",
    "print(data)"
   ]
  },
  {
   "attachments": {},
   "cell_type": "markdown",
   "metadata": {},
   "source": [
    "### 집합 자료형의 연산"
   ]
  },
  {
   "cell_type": "code",
   "execution_count": 39,
   "metadata": {},
   "outputs": [
    {
     "name": "stdout",
     "output_type": "stream",
     "text": [
      "{1, 2, 3, 4, 5, 6, 7}\n",
      "{3, 4, 5}\n",
      "{1, 2}\n"
     ]
    }
   ],
   "source": [
    "a = {1,2,3,4,5}\n",
    "b = {3,4,5,6,7}\n",
    "\n",
    "print(a | b) #합집합\n",
    "print(a & b) #교집합\n",
    "print(a - b) #차집합"
   ]
  },
  {
   "attachments": {},
   "cell_type": "markdown",
   "metadata": {},
   "source": [
    "### 집합 자료형 관련 함수"
   ]
  },
  {
   "cell_type": "code",
   "execution_count": 45,
   "metadata": {},
   "outputs": [
    {
     "name": "stdout",
     "output_type": "stream",
     "text": [
      "{1, 2, 3}\n",
      "{1, 2, 3, 4}\n",
      "{1, 2, 3, 4, 5, 6}\n",
      "{1, 2, 4, 5, 6}\n"
     ]
    }
   ],
   "source": [
    "data = {1,2,3}\n",
    "print(data)\n",
    "\n",
    "# 새로운 원소 추가\n",
    "data.add(4)\n",
    "print(data)\n",
    "\n",
    "# 새로운 원소 여러개 추가\n",
    "data.update([5,6])\n",
    "print(data)\n",
    "\n",
    "# 특정한 값을 갖는 원소 삭제\n",
    "data.remove(3)\n",
    "print(data)\n"
   ]
  },
  {
   "attachments": {},
   "cell_type": "markdown",
   "metadata": {},
   "source": [
    "# 조건문"
   ]
  },
  {
   "cell_type": "code",
   "execution_count": 46,
   "metadata": {},
   "outputs": [
    {
     "name": "stdout",
     "output_type": "stream",
     "text": [
      "학점: B\n"
     ]
    }
   ],
   "source": [
    "score = 85\n",
    "\n",
    "if score >= 90:\n",
    "    print(\"학점: A\")\n",
    "elif score >= 80:\n",
    "    print(\"학점: B\")\n",
    "elif score >= 70:\n",
    "    print(\"학점: C\")\n",
    "else:\n",
    "    print(\"학점: D\")"
   ]
  },
  {
   "cell_type": "code",
   "execution_count": 50,
   "metadata": {},
   "outputs": [
    {
     "name": "stdout",
     "output_type": "stream",
     "text": [
      "Success\n"
     ]
    }
   ],
   "source": [
    "score = 85\n",
    "\n",
    "result = \"Success\" if score >=80 else \"Fail\"\n",
    "print(result)\n"
   ]
  },
  {
   "cell_type": "code",
   "execution_count": 53,
   "metadata": {},
   "outputs": [
    {
     "name": "stdout",
     "output_type": "stream",
     "text": [
      "[1, 2, 4, 6, 7]\n"
     ]
    }
   ],
   "source": [
    "# 리스트에서 특정한 원소의 값만을 없애고 싶을 때\n",
    "items = [1,2,3,4,5,6,7]\n",
    "del_items = {3,5}\n",
    "\n",
    "result = [i for i in items if i not in del_items]\n",
    "print(result)"
   ]
  },
  {
   "attachments": {},
   "cell_type": "markdown",
   "metadata": {},
   "source": [
    "# 반복문"
   ]
  },
  {
   "attachments": {},
   "cell_type": "markdown",
   "metadata": {},
   "source": [
    "## while 문"
   ]
  },
  {
   "cell_type": "code",
   "execution_count": 58,
   "metadata": {},
   "outputs": [
    {
     "name": "stdout",
     "output_type": "stream",
     "text": [
      "45\n",
      "25\n"
     ]
    }
   ],
   "source": [
    "i = 1\n",
    "result = 0\n",
    "\n",
    "while i <= 9:\n",
    "    result += i\n",
    "    i += 1\n",
    "\n",
    "print(result)\n",
    "\n",
    "# 홀수만 더하고자 할 때\n",
    "i = 1\n",
    "result = 0\n",
    "\n",
    "while i<=9: #i가 9보다 작거나 같을 때 아래 코드를 반복적으로 실행\n",
    "    if i % 2 == 1:\n",
    "        result += i\n",
    "    i +=1\n",
    "print(result)"
   ]
  },
  {
   "attachments": {},
   "cell_type": "markdown",
   "metadata": {},
   "source": [
    "## for문"
   ]
  },
  {
   "cell_type": "code",
   "execution_count": 63,
   "metadata": {},
   "outputs": [
    {
     "name": "stdout",
     "output_type": "stream",
     "text": [
      "45\n",
      "1 번 학생은 합격입니다.\n",
      "2 번 학생은 합격입니다.\n",
      "5 번 학생은 합격입니다.\n",
      "1 번 학생은 합격입니다.\n",
      "5 번 학생은 합격입니다.\n",
      "2 X 1 = 2\n",
      "2 X 2 = 4\n",
      "2 X 3 = 6\n",
      "2 X 4 = 8\n",
      "2 X 5 = 10\n",
      "2 X 6 = 12\n",
      "2 X 7 = 14\n",
      "2 X 8 = 16\n",
      "2 X 9 = 18\n",
      "3 X 1 = 3\n",
      "3 X 2 = 6\n",
      "3 X 3 = 9\n",
      "3 X 4 = 12\n",
      "3 X 5 = 15\n",
      "3 X 6 = 18\n",
      "3 X 7 = 21\n",
      "3 X 8 = 24\n",
      "3 X 9 = 27\n",
      "4 X 1 = 4\n",
      "4 X 2 = 8\n",
      "4 X 3 = 12\n",
      "4 X 4 = 16\n",
      "4 X 5 = 20\n",
      "4 X 6 = 24\n",
      "4 X 7 = 28\n",
      "4 X 8 = 32\n",
      "4 X 9 = 36\n",
      "5 X 1 = 5\n",
      "5 X 2 = 10\n",
      "5 X 3 = 15\n",
      "5 X 4 = 20\n",
      "5 X 5 = 25\n",
      "5 X 6 = 30\n",
      "5 X 7 = 35\n",
      "5 X 8 = 40\n",
      "5 X 9 = 45\n",
      "6 X 1 = 6\n",
      "6 X 2 = 12\n",
      "6 X 3 = 18\n",
      "6 X 4 = 24\n",
      "6 X 5 = 30\n",
      "6 X 6 = 36\n",
      "6 X 7 = 42\n",
      "6 X 8 = 48\n",
      "6 X 9 = 54\n",
      "7 X 1 = 7\n",
      "7 X 2 = 14\n",
      "7 X 3 = 21\n",
      "7 X 4 = 28\n",
      "7 X 5 = 35\n",
      "7 X 6 = 42\n",
      "7 X 7 = 49\n",
      "7 X 8 = 56\n",
      "7 X 9 = 63\n",
      "8 X 1 = 8\n",
      "8 X 2 = 16\n",
      "8 X 3 = 24\n",
      "8 X 4 = 32\n",
      "8 X 5 = 40\n",
      "8 X 6 = 48\n",
      "8 X 7 = 56\n",
      "8 X 8 = 64\n",
      "8 X 9 = 72\n",
      "9 X 1 = 9\n",
      "9 X 2 = 18\n",
      "9 X 3 = 27\n",
      "9 X 4 = 36\n",
      "9 X 5 = 45\n",
      "9 X 6 = 54\n",
      "9 X 7 = 63\n",
      "9 X 8 = 72\n",
      "9 X 9 = 81\n"
     ]
    }
   ],
   "source": [
    "result = 0\n",
    "\n",
    "# i는 1부터 9까지의 모든 값을 순회\n",
    "for i in range(1,10):\n",
    "    result += i\n",
    "print(result)\n",
    "\n",
    "scores = [90,85,77,65,97]\n",
    "\n",
    "for i in range(5):\n",
    "    if scores[i] >= 80:\n",
    "        print(i+1, \"번 학생은 합격입니다.\")\n",
    "\n",
    "scores = [90,85,77,65,97]\n",
    "cheating_list = {2,4}\n",
    "\n",
    "for i in range(5):\n",
    "    if i+1 in cheating_list:\n",
    "        continue\n",
    "    if scores[i] >= 80:\n",
    "        print(i+1, \"번 학생은 합격입니다.\")\n",
    "\n",
    "# 이중 반복문\n",
    "for i in range(2,10):\n",
    "    for j in range(1,10):\n",
    "        print(i, \"X\", j, \"=\", i*j)"
   ]
  },
  {
   "attachments": {},
   "cell_type": "markdown",
   "metadata": {},
   "source": [
    "#  함수"
   ]
  },
  {
   "cell_type": "code",
   "execution_count": 72,
   "metadata": {},
   "outputs": [
    {
     "name": "stdout",
     "output_type": "stream",
     "text": [
      "10\n",
      "함수의 결과:  10\n",
      "함수의 결과:  12\n",
      "10\n",
      "10\n",
      "10\n"
     ]
    }
   ],
   "source": [
    "def add(a,b):\n",
    "    return a+b\n",
    "\n",
    "print(add(3,7))\n",
    "\n",
    "def add(a,b):\n",
    "    print('함수의 결과: ', a+b)\n",
    "add(3,7)\n",
    "add(b=3, a=9)\n",
    "\n",
    "a = 0\n",
    "def func():\n",
    "    global a\n",
    "    a += 1\n",
    "for i in range(10):\n",
    "    func()\n",
    "print(a)\n",
    "\n",
    "def add(a,b):\n",
    "    return a+b\n",
    "\n",
    "# 일반적인 add() 메서드 사용\n",
    "print(add(3,7))\n",
    "\n",
    "# 람다 표현식으로 구현한 add() 메서드\n",
    "print((lambda a,b: a+b)(3,7))"
   ]
  },
  {
   "attachments": {},
   "cell_type": "markdown",
   "metadata": {},
   "source": [
    "# 입출력"
   ]
  },
  {
   "attachments": {},
   "cell_type": "markdown",
   "metadata": {},
   "source": [
    "#### 입력을 위한 전형적인 소스코드"
   ]
  },
  {
   "cell_type": "code",
   "execution_count": 75,
   "metadata": {},
   "outputs": [
    {
     "name": "stdout",
     "output_type": "stream",
     "text": [
      "[99, 66, 55, 55, 50, 33, 22, 11]\n"
     ]
    }
   ],
   "source": [
    "# 데이터의 개수 입력\n",
    "n = int(input())\n",
    "\n",
    "# 각 데이터를 공백으로 구분하여 입력\n",
    "data = list(map(int, input().split()))\n",
    "\n",
    "data.sort(reverse=True)\n",
    "print(data)"
   ]
  },
  {
   "attachments": {},
   "cell_type": "markdown",
   "metadata": {},
   "source": [
    "#### 공백을 기준으로 구분하여 적은 수의 데이터 입력"
   ]
  },
  {
   "cell_type": "code",
   "execution_count": 76,
   "metadata": {},
   "outputs": [
    {
     "name": "stdout",
     "output_type": "stream",
     "text": [
      "1222 33 2\n"
     ]
    }
   ],
   "source": [
    "# n, m, k를 공백으로 구분하여 입력\n",
    "n,m,k = map(int,input().split())\n",
    "\n",
    "print(n,m,k)"
   ]
  },
  {
   "attachments": {},
   "cell_type": "markdown",
   "metadata": {},
   "source": [
    "#### sys 라이브러리를 사용한 readline() 사용 소스코드 예시"
   ]
  },
  {
   "cell_type": "code",
   "execution_count": 1,
   "metadata": {},
   "outputs": [],
   "source": [
    "import sys\n",
    "\n",
    "# 문자열 입력 받기\n",
    "data = sys.stdin.readline().rstrip()\n",
    "print(data)"
   ]
  },
  {
   "attachments": {},
   "cell_type": "markdown",
   "metadata": {},
   "source": [
    "# 주요 라이브러리의 문법과 유의점"
   ]
  },
  {
   "attachments": {},
   "cell_type": "markdown",
   "metadata": {},
   "source": [
    "### 내장 함수"
   ]
  },
  {
   "cell_type": "code",
   "execution_count": 28,
   "metadata": {},
   "outputs": [
    {
     "name": "stdout",
     "output_type": "stream",
     "text": [
      "15\n",
      "1\n",
      "5\n",
      "56\n",
      "[1, 4, 5, 8, 9]\n",
      "[9, 8, 5, 4, 1]\n",
      "[('이순신', 75), ('아무개', 50), ('홍길동', 35)]\n",
      "[9, 8, 5, 4, 1]\n"
     ]
    }
   ],
   "source": [
    "items = [1,2,3,4,5] # 리스트, 딕셔너리, 튜플 사용 가능\n",
    "result = sum(items) # 합\n",
    "print(result)\n",
    "\n",
    "result = min(items) # 최소값\n",
    "print(result)\n",
    "\n",
    "result = max(items) # 최대값\n",
    "print(result)\n",
    "\n",
    "result = eval(\"(3+5)*7\") # 수식이 문자열 형식으로 들어오면 해당 수식을 계산한 결과 반환\n",
    "print(result)\n",
    "\n",
    "items = [9,1,8,5,4]\n",
    "result = sorted(items) # 오름차순으로 정렬\n",
    "print(result)\n",
    "\n",
    "result = sorted(items, reverse=True) # 내림차순으로 정렬\n",
    "print(result)\n",
    "\n",
    "items = {('홍길동', 35), ('이순신', 75), ('아무개', 50)} # 딕셔너리\n",
    "print(sorted(items, key=lambda x: x[1], reverse=True)) # 두번째 키 값 x[1] 으로 내림차순(높은순) 정렬\n",
    "\n",
    "data = [9,1,8,5,4]\n",
    "data.sort() #sorted 쓰지 않고 .sort() 함수 사용 가능\n",
    "print(data)"
   ]
  },
  {
   "cell_type": "markdown",
   "metadata": {},
   "source": [
    "### itertools"
   ]
  },
  {
   "cell_type": "code",
   "execution_count": 56,
   "metadata": {},
   "outputs": [
    {
     "name": "stdout",
     "output_type": "stream",
     "text": [
      "[('A', 'B', 'C'), ('A', 'C', 'B'), ('B', 'A', 'C'), ('B', 'C', 'A'), ('C', 'A', 'B'), ('C', 'B', 'A')]\n"
     ]
    }
   ],
   "source": [
    "# permutations는 리스트와 같은 iterable 객체에서 r개의 데이터를 뽑아 일렬로 나열하는 모든 경우(순열)를 계산\n",
    "from itertools import permutations \n",
    "\n",
    "data = ['A', 'B', 'C']\n",
    "result = list(permutations(data, 3)) # 모든 순열 구하기\n",
    "print(result)"
   ]
  },
  {
   "cell_type": "code",
   "execution_count": 57,
   "metadata": {},
   "outputs": [
    {
     "name": "stdout",
     "output_type": "stream",
     "text": [
      "[('A', 'B'), ('A', 'C'), ('B', 'C')]\n"
     ]
    }
   ],
   "source": [
    "# combinations는 리스트와 같은 iterable 객체에서 r개의 데이터를 뽑아 순서를 고려하지 않고 나열하는 모든 경우(조합)를 계산\n",
    "from itertools import combinations\n",
    "data = ['A', 'B', 'C']\n",
    "result = list(combinations(data,2)) # 2개를 뽑는 모든 조합 구하기\n",
    "print(result)"
   ]
  },
  {
   "cell_type": "code",
   "execution_count": 58,
   "metadata": {},
   "outputs": [
    {
     "name": "stdout",
     "output_type": "stream",
     "text": [
      "[('A', 'A'), ('A', 'B'), ('A', 'C'), ('B', 'A'), ('B', 'B'), ('B', 'C'), ('C', 'A'), ('C', 'B'), ('C', 'C')]\n"
     ]
    }
   ],
   "source": [
    "# product는 permutations와 같은데, 원소를 중복하여 뽑는다.\n",
    "from itertools import product\n",
    "data = ['A', 'B', 'C']\n",
    "result = list(product(data, repeat=2)) # 2개를 뽑는 모든 순열 구하기(중복 허용)\n",
    "print(result)"
   ]
  },
  {
   "cell_type": "code",
   "execution_count": 59,
   "metadata": {},
   "outputs": [
    {
     "name": "stdout",
     "output_type": "stream",
     "text": [
      "[('A', 'A'), ('A', 'B'), ('A', 'C'), ('B', 'B'), ('B', 'C'), ('C', 'C')]\n"
     ]
    }
   ],
   "source": [
    "# combinations_with_replacement는 combinations와 같은데, 원소를 중복해서 뽑는다.\n",
    "from itertools import combinations_with_replacement\n",
    "data = ['A', 'B', 'C']\n",
    "result = list(combinations_with_replacement(data, 2)) #2개를 뽑는 모든 조합 구하기(중복 허용)\n",
    "print(result)"
   ]
  },
  {
   "attachments": {},
   "cell_type": "markdown",
   "metadata": {},
   "source": [
    "### heapq (우선순위 큐 기능을 구현하고자 할 때 사용)"
   ]
  },
  {
   "cell_type": "code",
   "execution_count": 46,
   "metadata": {},
   "outputs": [
    {
     "name": "stdout",
     "output_type": "stream",
     "text": [
      "[0, 1, 2, 3, 4, 5, 6, 7, 8, 9]\n"
     ]
    }
   ],
   "source": [
    "import heapq\n",
    "\n",
    "def heapsort(iterable):\n",
    "    h = []\n",
    "    result = []\n",
    "    # 모든 원소를 차례대로 힙에 삽입\n",
    "    for value in iterable:\n",
    "        heapq.heappush(h, value) # 힙에 원소를 삽입할 때는 heaqp.heappush() 메서드 이용 // 내림차순 정렬 시 -value\n",
    "    # 힙에 삽입된 모든 원소를 차례대로 꺼내어 담기\n",
    "    for i in range(len(h)):\n",
    "        result.append(heapq.heappop(h)) # 힙에서 원소를 꺼내고자 할 때는 heapq.heappop() 메서드 이용 // 내림차순 정렬 시 -heapq.heappop(h)\n",
    "    return result\n",
    "items = [1,3,5,7,9,2,4,6,8,0]\n",
    "result = heapsort(items)\n",
    "print(result)"
   ]
  },
  {
   "attachments": {},
   "cell_type": "markdown",
   "metadata": {},
   "source": [
    "### bisect (이진 탐색을 쉽게 구현 가능)"
   ]
  },
  {
   "cell_type": "code",
   "execution_count": 55,
   "metadata": {},
   "outputs": [
    {
     "name": "stdout",
     "output_type": "stream",
     "text": [
      "2\n",
      "4\n"
     ]
    }
   ],
   "source": [
    "from bisect import bisect_left, bisect_right\n",
    "\n",
    "a = [1,2,4,4,8]\n",
    "x = 4\n",
    "\n",
    "print(bisect_left(a,x)) # a 리스트에서 왼쪽에서 x가 처음 출현하는 \n",
    "print(bisect_right(a,x))"
   ]
  },
  {
   "cell_type": "code",
   "execution_count": 61,
   "metadata": {},
   "outputs": [
    {
     "name": "stdout",
     "output_type": "stream",
     "text": [
      "2\n",
      "6\n"
     ]
    }
   ],
   "source": [
    "from bisect import bisect_left, bisect_right\n",
    "\n",
    "# 값이 [left_value, right_value]인 데이터의 개수를 반환하는 함수\n",
    "def count_by_range(a, left_value, right_value):\n",
    "    right_index = bisect_right(a, right_value)\n",
    "    left_index = bisect_left(a, left_value)\n",
    "    return right_index - left_index\n",
    "\n",
    "# 리스트 선언\n",
    "a = [1,2,3,3,3,3,4,4,8,9]\n",
    "\n",
    "# 값이 4인 데이터 개수 출력\n",
    "print(count_by_range(a,4,4))\n",
    "\n",
    "# 값이 [-1, 3] 범위에 있는 데이터 개수 출력\n",
    "print(count_by_range(a,-1,3))"
   ]
  },
  {
   "attachments": {},
   "cell_type": "markdown",
   "metadata": {},
   "source": [
    "### collections"
   ]
  },
  {
   "cell_type": "code",
   "execution_count": 64,
   "metadata": {},
   "outputs": [
    {
     "name": "stdout",
     "output_type": "stream",
     "text": [
      "deque([1, 2, 3, 4, 5])\n",
      "[1, 2, 3, 4, 5]\n",
      "deque([2, 3, 4, 5])\n"
     ]
    }
   ],
   "source": [
    "# deque -> list에서 append, pop과 비슷\n",
    "from collections import deque\n",
    "\n",
    "data = deque([2,3,4])\n",
    "\n",
    "data.appendleft(1) # 맨 앞에 요소 추가\n",
    "data.append(5)\n",
    "\n",
    "print(data)\n",
    "print(list(data))\n",
    "\n",
    "data.popleft() # 맨 앞의 요소 제거\n",
    "print(data)"
   ]
  },
  {
   "cell_type": "code",
   "execution_count": 67,
   "metadata": {},
   "outputs": [
    {
     "name": "stdout",
     "output_type": "stream",
     "text": [
      "3\n",
      "1\n",
      "{'red': 2, 'blue': 3, 'green': 1}\n"
     ]
    }
   ],
   "source": [
    "# counter는 등장 횟수를 세는 기능\n",
    "from collections import Counter\n",
    "\n",
    "data = Counter(['red', 'blue', 'red', 'green', 'blue', 'blue'])\n",
    "print(data['blue']) # blue가 등장한 횟수 출력\n",
    "print(data['green']) # green이 등장한 횟수 출력\n",
    "print(dict(data)) # 딕셔너리 형으로 변환"
   ]
  },
  {
   "attachments": {},
   "cell_type": "markdown",
   "metadata": {},
   "source": [
    "### math"
   ]
  },
  {
   "cell_type": "code",
   "execution_count": 72,
   "metadata": {},
   "outputs": [
    {
     "name": "stdout",
     "output_type": "stream",
     "text": [
      "120\n",
      "2.6457513110645907\n",
      "7\n",
      "3.141592653589793\n",
      "2.718281828459045\n"
     ]
    }
   ],
   "source": [
    "import math\n",
    "print(math.factorial(5)) # 5 팩토리얼을 출력\n",
    "print(math.sqrt(7)) # 7의 제곱근 출력\n",
    "print(math.gcd(21, 14)) #21과 14의 최대 공약수 출력\n",
    "print(math.pi) # 파이(pi) 출력\n",
    "print(math.e) #  자연상수 e 출력"
   ]
  }
 ],
 "metadata": {
  "kernelspec": {
   "display_name": "base",
   "language": "python",
   "name": "python3"
  },
  "language_info": {
   "codemirror_mode": {
    "name": "ipython",
    "version": 3
   },
   "file_extension": ".py",
   "mimetype": "text/x-python",
   "name": "python",
   "nbconvert_exporter": "python",
   "pygments_lexer": "ipython3",
   "version": "3.9.13 (main, Aug 25 2022, 23:51:50) [MSC v.1916 64 bit (AMD64)]"
  },
  "orig_nbformat": 4,
  "vscode": {
   "interpreter": {
    "hash": "ad2bdc8ecc057115af97d19610ffacc2b4e99fae6737bb82f5d7fb13d2f2c186"
   }
  }
 },
 "nbformat": 4,
 "nbformat_minor": 2
}
